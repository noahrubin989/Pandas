{
 "cells": [
  {
   "cell_type": "markdown",
   "id": "7faa95d0",
   "metadata": {},
   "source": [
    "### <span style=\"color:black\"><b>Pandas Tutorial 2</b></span>\n",
    "\n",
    "---\n",
    "\n",
    "<ins>Understanding our Dataset</ins>\n",
    "\n",
    "* Once we load in our dataset it is always nice to get some basic information about it\n",
    "* Below are some simple pandas commands we can use to do this\n",
    "* I'll also introduce the concept of a series and a dataframe\n"
   ]
  },
  {
   "cell_type": "code",
   "execution_count": 1,
   "id": "ec7edc9b",
   "metadata": {},
   "outputs": [],
   "source": [
    "import pandas as pd"
   ]
  },
  {
   "cell_type": "code",
   "execution_count": 3,
   "id": "01bc49dd",
   "metadata": {},
   "outputs": [
    {
     "data": {
      "text/html": [
       "<div>\n",
       "<style scoped>\n",
       "    .dataframe tbody tr th:only-of-type {\n",
       "        vertical-align: middle;\n",
       "    }\n",
       "\n",
       "    .dataframe tbody tr th {\n",
       "        vertical-align: top;\n",
       "    }\n",
       "\n",
       "    .dataframe thead th {\n",
       "        text-align: right;\n",
       "    }\n",
       "</style>\n",
       "<table border=\"1\" class=\"dataframe\">\n",
       "  <thead>\n",
       "    <tr style=\"text-align: right;\">\n",
       "      <th></th>\n",
       "      <th>Country</th>\n",
       "      <th>Year</th>\n",
       "      <th>InfantMortality</th>\n",
       "      <th>Health_exp</th>\n",
       "      <th>Life_exp</th>\n",
       "      <th>GDP_cap</th>\n",
       "      <th>Employment</th>\n",
       "      <th>Status</th>\n",
       "      <th>MeanSchooling</th>\n",
       "      <th>ElectricityAccess</th>\n",
       "    </tr>\n",
       "  </thead>\n",
       "  <tbody>\n",
       "    <tr>\n",
       "      <th>0</th>\n",
       "      <td>Albania</td>\n",
       "      <td>2000</td>\n",
       "      <td>24.1</td>\n",
       "      <td>7.233370</td>\n",
       "      <td>73.955000</td>\n",
       "      <td>1126.683318</td>\n",
       "      <td>52.090000</td>\n",
       "      <td>Developing</td>\n",
       "      <td>8.8</td>\n",
       "      <td>100.000000</td>\n",
       "    </tr>\n",
       "    <tr>\n",
       "      <th>1</th>\n",
       "      <td>United Arab Emirates</td>\n",
       "      <td>2000</td>\n",
       "      <td>9.6</td>\n",
       "      <td>2.374135</td>\n",
       "      <td>74.327000</td>\n",
       "      <td>33291.419366</td>\n",
       "      <td>74.250000</td>\n",
       "      <td>Developed</td>\n",
       "      <td>8.3</td>\n",
       "      <td>100.000000</td>\n",
       "    </tr>\n",
       "    <tr>\n",
       "      <th>2</th>\n",
       "      <td>Argentina</td>\n",
       "      <td>2000</td>\n",
       "      <td>17.5</td>\n",
       "      <td>8.466964</td>\n",
       "      <td>73.576000</td>\n",
       "      <td>7708.100996</td>\n",
       "      <td>52.580002</td>\n",
       "      <td>Developing</td>\n",
       "      <td>9.1</td>\n",
       "      <td>95.445366</td>\n",
       "    </tr>\n",
       "    <tr>\n",
       "      <th>3</th>\n",
       "      <td>Armenia</td>\n",
       "      <td>2000</td>\n",
       "      <td>27.0</td>\n",
       "      <td>4.195812</td>\n",
       "      <td>71.409000</td>\n",
       "      <td>622.742139</td>\n",
       "      <td>47.139999</td>\n",
       "      <td>Developing</td>\n",
       "      <td>10.8</td>\n",
       "      <td>98.900000</td>\n",
       "    </tr>\n",
       "    <tr>\n",
       "      <th>4</th>\n",
       "      <td>Australia</td>\n",
       "      <td>2000</td>\n",
       "      <td>5.1</td>\n",
       "      <td>7.613833</td>\n",
       "      <td>79.234146</td>\n",
       "      <td>21679.247842</td>\n",
       "      <td>59.389999</td>\n",
       "      <td>Developed</td>\n",
       "      <td>11.9</td>\n",
       "      <td>100.000000</td>\n",
       "    </tr>\n",
       "  </tbody>\n",
       "</table>\n",
       "</div>"
      ],
      "text/plain": [
       "                Country  Year  InfantMortality  Health_exp   Life_exp  \\\n",
       "0               Albania  2000             24.1    7.233370  73.955000   \n",
       "1  United Arab Emirates  2000              9.6    2.374135  74.327000   \n",
       "2             Argentina  2000             17.5    8.466964  73.576000   \n",
       "3               Armenia  2000             27.0    4.195812  71.409000   \n",
       "4             Australia  2000              5.1    7.613833  79.234146   \n",
       "\n",
       "        GDP_cap  Employment      Status  MeanSchooling  ElectricityAccess  \n",
       "0   1126.683318   52.090000  Developing            8.8         100.000000  \n",
       "1  33291.419366   74.250000   Developed            8.3         100.000000  \n",
       "2   7708.100996   52.580002  Developing            9.1          95.445366  \n",
       "3    622.742139   47.139999  Developing           10.8          98.900000  \n",
       "4  21679.247842   59.389999   Developed           11.9         100.000000  "
      ]
     },
     "execution_count": 3,
     "metadata": {},
     "output_type": "execute_result"
    }
   ],
   "source": [
    "data = pd.read_csv('health.csv')\n",
    "data.head()"
   ]
  },
  {
   "cell_type": "code",
   "execution_count": 4,
   "id": "faf5d336",
   "metadata": {},
   "outputs": [
    {
     "data": {
      "text/plain": [
       "(2575, 10)"
      ]
     },
     "execution_count": 4,
     "metadata": {},
     "output_type": "execute_result"
    }
   ],
   "source": [
    "data.shape"
   ]
  },
  {
   "cell_type": "code",
   "execution_count": 5,
   "id": "f1de999e",
   "metadata": {},
   "outputs": [
    {
     "data": {
      "text/html": [
       "<div>\n",
       "<style scoped>\n",
       "    .dataframe tbody tr th:only-of-type {\n",
       "        vertical-align: middle;\n",
       "    }\n",
       "\n",
       "    .dataframe tbody tr th {\n",
       "        vertical-align: top;\n",
       "    }\n",
       "\n",
       "    .dataframe thead th {\n",
       "        text-align: right;\n",
       "    }\n",
       "</style>\n",
       "<table border=\"1\" class=\"dataframe\">\n",
       "  <thead>\n",
       "    <tr style=\"text-align: right;\">\n",
       "      <th></th>\n",
       "      <th>Year</th>\n",
       "      <th>InfantMortality</th>\n",
       "      <th>Health_exp</th>\n",
       "      <th>Life_exp</th>\n",
       "      <th>GDP_cap</th>\n",
       "      <th>Employment</th>\n",
       "      <th>MeanSchooling</th>\n",
       "      <th>ElectricityAccess</th>\n",
       "    </tr>\n",
       "  </thead>\n",
       "  <tbody>\n",
       "    <tr>\n",
       "      <th>count</th>\n",
       "      <td>2575.000000</td>\n",
       "      <td>2575.000000</td>\n",
       "      <td>2575.000000</td>\n",
       "      <td>2575.000000</td>\n",
       "      <td>2575.000000</td>\n",
       "      <td>2575.000000</td>\n",
       "      <td>2575.000000</td>\n",
       "      <td>2575.000000</td>\n",
       "    </tr>\n",
       "    <tr>\n",
       "      <th>mean</th>\n",
       "      <td>2009.234563</td>\n",
       "      <td>26.798951</td>\n",
       "      <td>6.157252</td>\n",
       "      <td>70.579504</td>\n",
       "      <td>13155.785444</td>\n",
       "      <td>58.730617</td>\n",
       "      <td>7.972117</td>\n",
       "      <td>78.910569</td>\n",
       "    </tr>\n",
       "    <tr>\n",
       "      <th>std</th>\n",
       "      <td>5.412521</td>\n",
       "      <td>26.101219</td>\n",
       "      <td>2.585380</td>\n",
       "      <td>8.880194</td>\n",
       "      <td>18848.945362</td>\n",
       "      <td>11.024063</td>\n",
       "      <td>3.300844</td>\n",
       "      <td>30.879275</td>\n",
       "    </tr>\n",
       "    <tr>\n",
       "      <th>min</th>\n",
       "      <td>2000.000000</td>\n",
       "      <td>1.600000</td>\n",
       "      <td>1.025159</td>\n",
       "      <td>43.467000</td>\n",
       "      <td>111.927224</td>\n",
       "      <td>33.020000</td>\n",
       "      <td>1.100000</td>\n",
       "      <td>1.300314</td>\n",
       "    </tr>\n",
       "    <tr>\n",
       "      <th>25%</th>\n",
       "      <td>2005.000000</td>\n",
       "      <td>6.300000</td>\n",
       "      <td>4.126215</td>\n",
       "      <td>65.535000</td>\n",
       "      <td>1258.635428</td>\n",
       "      <td>51.385000</td>\n",
       "      <td>5.200000</td>\n",
       "      <td>62.850000</td>\n",
       "    </tr>\n",
       "    <tr>\n",
       "      <th>50%</th>\n",
       "      <td>2009.000000</td>\n",
       "      <td>16.300000</td>\n",
       "      <td>5.824070</td>\n",
       "      <td>72.618000</td>\n",
       "      <td>4234.403133</td>\n",
       "      <td>58.020000</td>\n",
       "      <td>8.400000</td>\n",
       "      <td>98.560364</td>\n",
       "    </tr>\n",
       "    <tr>\n",
       "      <th>75%</th>\n",
       "      <td>2014.000000</td>\n",
       "      <td>40.950000</td>\n",
       "      <td>8.016386</td>\n",
       "      <td>77.444110</td>\n",
       "      <td>16502.849386</td>\n",
       "      <td>65.509998</td>\n",
       "      <td>10.800000</td>\n",
       "      <td>100.000000</td>\n",
       "    </tr>\n",
       "    <tr>\n",
       "      <th>max</th>\n",
       "      <td>2018.000000</td>\n",
       "      <td>128.200000</td>\n",
       "      <td>20.413412</td>\n",
       "      <td>84.210976</td>\n",
       "      <td>118823.648369</td>\n",
       "      <td>87.820000</td>\n",
       "      <td>14.100000</td>\n",
       "      <td>100.000000</td>\n",
       "    </tr>\n",
       "  </tbody>\n",
       "</table>\n",
       "</div>"
      ],
      "text/plain": [
       "              Year  InfantMortality   Health_exp     Life_exp        GDP_cap  \\\n",
       "count  2575.000000      2575.000000  2575.000000  2575.000000    2575.000000   \n",
       "mean   2009.234563        26.798951     6.157252    70.579504   13155.785444   \n",
       "std       5.412521        26.101219     2.585380     8.880194   18848.945362   \n",
       "min    2000.000000         1.600000     1.025159    43.467000     111.927224   \n",
       "25%    2005.000000         6.300000     4.126215    65.535000    1258.635428   \n",
       "50%    2009.000000        16.300000     5.824070    72.618000    4234.403133   \n",
       "75%    2014.000000        40.950000     8.016386    77.444110   16502.849386   \n",
       "max    2018.000000       128.200000    20.413412    84.210976  118823.648369   \n",
       "\n",
       "        Employment  MeanSchooling  ElectricityAccess  \n",
       "count  2575.000000    2575.000000        2575.000000  \n",
       "mean     58.730617       7.972117          78.910569  \n",
       "std      11.024063       3.300844          30.879275  \n",
       "min      33.020000       1.100000           1.300314  \n",
       "25%      51.385000       5.200000          62.850000  \n",
       "50%      58.020000       8.400000          98.560364  \n",
       "75%      65.509998      10.800000         100.000000  \n",
       "max      87.820000      14.100000         100.000000  "
      ]
     },
     "execution_count": 5,
     "metadata": {},
     "output_type": "execute_result"
    }
   ],
   "source": [
    "data.describe()"
   ]
  },
  {
   "cell_type": "code",
   "execution_count": 6,
   "id": "007e9aeb",
   "metadata": {},
   "outputs": [
    {
     "data": {
      "text/html": [
       "<div>\n",
       "<style scoped>\n",
       "    .dataframe tbody tr th:only-of-type {\n",
       "        vertical-align: middle;\n",
       "    }\n",
       "\n",
       "    .dataframe tbody tr th {\n",
       "        vertical-align: top;\n",
       "    }\n",
       "\n",
       "    .dataframe thead th {\n",
       "        text-align: right;\n",
       "    }\n",
       "</style>\n",
       "<table border=\"1\" class=\"dataframe\">\n",
       "  <thead>\n",
       "    <tr style=\"text-align: right;\">\n",
       "      <th></th>\n",
       "      <th>Country</th>\n",
       "      <th>Status</th>\n",
       "    </tr>\n",
       "  </thead>\n",
       "  <tbody>\n",
       "    <tr>\n",
       "      <th>count</th>\n",
       "      <td>2575</td>\n",
       "      <td>2575</td>\n",
       "    </tr>\n",
       "    <tr>\n",
       "      <th>unique</th>\n",
       "      <td>144</td>\n",
       "      <td>2</td>\n",
       "    </tr>\n",
       "    <tr>\n",
       "      <th>top</th>\n",
       "      <td>Albania</td>\n",
       "      <td>Developing</td>\n",
       "    </tr>\n",
       "    <tr>\n",
       "      <th>freq</th>\n",
       "      <td>19</td>\n",
       "      <td>1891</td>\n",
       "    </tr>\n",
       "  </tbody>\n",
       "</table>\n",
       "</div>"
      ],
      "text/plain": [
       "        Country      Status\n",
       "count      2575        2575\n",
       "unique      144           2\n",
       "top     Albania  Developing\n",
       "freq         19        1891"
      ]
     },
     "execution_count": 6,
     "metadata": {},
     "output_type": "execute_result"
    }
   ],
   "source": [
    "data.describe(include = 'object')"
   ]
  },
  {
   "cell_type": "code",
   "execution_count": 7,
   "id": "fa90e332",
   "metadata": {},
   "outputs": [
    {
     "data": {
      "text/plain": [
       "Index(['Country', 'Year', 'InfantMortality', 'Health_exp', 'Life_exp',\n",
       "       'GDP_cap', 'Employment', 'Status', 'MeanSchooling',\n",
       "       'ElectricityAccess'],\n",
       "      dtype='object')"
      ]
     },
     "execution_count": 7,
     "metadata": {},
     "output_type": "execute_result"
    }
   ],
   "source": [
    "data.columns"
   ]
  },
  {
   "cell_type": "code",
   "execution_count": 9,
   "id": "701f0336",
   "metadata": {},
   "outputs": [
    {
     "data": {
      "text/plain": [
       "Country               object\n",
       "Year                   int64\n",
       "InfantMortality      float64\n",
       "Health_exp           float64\n",
       "Life_exp             float64\n",
       "GDP_cap              float64\n",
       "Employment           float64\n",
       "Status                object\n",
       "MeanSchooling        float64\n",
       "ElectricityAccess    float64\n",
       "dtype: object"
      ]
     },
     "execution_count": 9,
     "metadata": {},
     "output_type": "execute_result"
    }
   ],
   "source": [
    "data.dtypes"
   ]
  },
  {
   "cell_type": "code",
   "execution_count": 10,
   "id": "8c8b71e5",
   "metadata": {},
   "outputs": [
    {
     "name": "stdout",
     "output_type": "stream",
     "text": [
      "<class 'pandas.core.frame.DataFrame'>\n",
      "RangeIndex: 2575 entries, 0 to 2574\n",
      "Data columns (total 10 columns):\n",
      " #   Column             Non-Null Count  Dtype  \n",
      "---  ------             --------------  -----  \n",
      " 0   Country            2575 non-null   object \n",
      " 1   Year               2575 non-null   int64  \n",
      " 2   InfantMortality    2575 non-null   float64\n",
      " 3   Health_exp         2575 non-null   float64\n",
      " 4   Life_exp           2575 non-null   float64\n",
      " 5   GDP_cap            2575 non-null   float64\n",
      " 6   Employment         2575 non-null   float64\n",
      " 7   Status             2575 non-null   object \n",
      " 8   MeanSchooling      2575 non-null   float64\n",
      " 9   ElectricityAccess  2575 non-null   float64\n",
      "dtypes: float64(7), int64(1), object(2)\n",
      "memory usage: 201.3+ KB\n"
     ]
    }
   ],
   "source": [
    "data.info()"
   ]
  },
  {
   "cell_type": "code",
   "execution_count": 11,
   "id": "67e61239",
   "metadata": {},
   "outputs": [
    {
     "data": {
      "text/plain": [
       "pandas.core.frame.DataFrame"
      ]
     },
     "execution_count": 11,
     "metadata": {},
     "output_type": "execute_result"
    }
   ],
   "source": [
    "type(data)"
   ]
  },
  {
   "cell_type": "code",
   "execution_count": 12,
   "id": "84ac009d",
   "metadata": {},
   "outputs": [
    {
     "data": {
      "text/plain": [
       "pandas.core.series.Series"
      ]
     },
     "execution_count": 12,
     "metadata": {},
     "output_type": "execute_result"
    }
   ],
   "source": [
    "type(data.Year)"
   ]
  }
 ],
 "metadata": {
  "kernelspec": {
   "display_name": "Python 3",
   "language": "python",
   "name": "python3"
  },
  "language_info": {
   "codemirror_mode": {
    "name": "ipython",
    "version": 3
   },
   "file_extension": ".py",
   "mimetype": "text/x-python",
   "name": "python",
   "nbconvert_exporter": "python",
   "pygments_lexer": "ipython3",
   "version": "3.7.6"
  }
 },
 "nbformat": 4,
 "nbformat_minor": 5
}
