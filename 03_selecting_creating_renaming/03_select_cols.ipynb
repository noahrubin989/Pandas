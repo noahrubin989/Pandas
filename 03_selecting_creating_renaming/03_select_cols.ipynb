{
 "cells": [
  {
   "cell_type": "markdown",
   "id": "43e8f756",
   "metadata": {},
   "source": [
    "### <span style=\"color:black\"><b>Pandas Tutorial 3</b></span>\n",
    "\n",
    "---\n",
    "\n",
    "<ins>Selecting, creating & renaming columns</ins>\n",
    "\n",
    "* In this tutorial you'll see how you can select, create and rename columns using the pandas library\n",
    "* Basic knowledge on python [dictionaries](https://www.w3schools.com/python/python_dictionaries.asp) is useful to know in order to get the most out of this\n",
    "* [fstrings](https://realpython.com/python-f-strings/) and [list comprehensions](https://www.programiz.com/python-programming/list-comprehension) are a bonus but it isn't essential\n",
    "* I'll also introduce the at times controversial `inplace` argument\n",
    "\n",
    "Useful dataframe methods:\n",
    "<pre>\n",
    "df.select_dtypes()\n",
    "df.rename(columns = ..., inplace = True)\n",
    "</pre>"
   ]
  },
  {
   "cell_type": "code",
   "execution_count": null,
   "id": "cbdfa361",
   "metadata": {},
   "outputs": [],
   "source": [
    "import pandas as pd"
   ]
  },
  {
   "cell_type": "code",
   "execution_count": null,
   "id": "03d30ea0",
   "metadata": {},
   "outputs": [],
   "source": [
    "# Recap of the python dictionary\n",
    "mydict = {'Name':'Noah', 'Age':19}\n",
    "mydict['Age']"
   ]
  },
  {
   "cell_type": "code",
   "execution_count": null,
   "id": "681cb259",
   "metadata": {},
   "outputs": [],
   "source": [
    "# Read in data\n",
    "df = pd.read_csv('twitch.csv')\n",
    "\n",
    "# First five rows\n",
    "df.head()"
   ]
  },
  {
   "cell_type": "markdown",
   "id": "fe124787",
   "metadata": {},
   "source": [
    "<span style=\"color:black\"><b>Selecting A Pandas Series (Column)</b></span> \n"
   ]
  },
  {
   "cell_type": "markdown",
   "id": "6ab1fe7d",
   "metadata": {},
   "source": [
    "Exercise: Select a column in two different ways, outlining the advantages and disadvantages of each method of doing so"
   ]
  },
  {
   "cell_type": "code",
   "execution_count": null,
   "id": "d0ed6c3a",
   "metadata": {},
   "outputs": [],
   "source": [
    "# Method 1: Use dictionary syntax\n",
    "df['Peak viewers']"
   ]
  },
  {
   "cell_type": "code",
   "execution_count": null,
   "id": "4ad86a57",
   "metadata": {},
   "outputs": [],
   "source": [
    "# Method 2: Use dot syntax\n",
    "df.Channel"
   ]
  },
  {
   "cell_type": "code",
   "execution_count": null,
   "id": "ea61c011",
   "metadata": {},
   "outputs": [],
   "source": [
    "# Example 1 of where dot syntax fails \n",
    "# df.T \n",
    "df.T\n",
    "\n",
    "# Reason: it clashes with pandas functionality of doing a matrix transpose"
   ]
  },
  {
   "cell_type": "code",
   "execution_count": null,
   "id": "335c9832",
   "metadata": {},
   "outputs": [],
   "source": [
    "# Example 2 of where dot syntax fails \n",
    "df.Peak viewers\n",
    "# Reason: The name of the series has whitespace between the words"
   ]
  },
  {
   "cell_type": "markdown",
   "id": "3b0c93d1",
   "metadata": {},
   "source": [
    " <span style=\"color:black\"><b>Selecting Multiple Columns</b></span>\n",
    "\n",
    "It turns out that when selecting multiple colums, it is best to pass in the names of the columns as strings inside a python list.\n",
    "\n",
    "Exercise: Select just the 'Channel', 'Followers gained' and 'Language' columns"
   ]
  },
  {
   "cell_type": "code",
   "execution_count": null,
   "id": "2d7a797c",
   "metadata": {},
   "outputs": [],
   "source": [
    "df[['Channel', 'Followers gained', 'Language']]"
   ]
  },
  {
   "cell_type": "markdown",
   "id": "31ee8628",
   "metadata": {},
   "source": [
    "<span style=\"color:black\"><b>Selecting Only Numeric or String Columns</b></span> \n",
    "\n",
    "* For this we use the `select_dtypes()` dataframe method that allows us to specify that we want numeric column or those that are text\n",
    "* Pass in a dtype for the `include` argument. A list with multiple dtypes is allowed too\n",
    "* Documentation for `select_dtypes()` can be found [here](https://pandas.pydata.org/docs/reference/api/pandas.DataFrame.select_dtypes.html) "
   ]
  },
  {
   "cell_type": "code",
   "execution_count": null,
   "id": "ecd2cf9d",
   "metadata": {},
   "outputs": [],
   "source": [
    "# Numeric only\n",
    "df.select_dtypes(include = 'number')"
   ]
  },
  {
   "cell_type": "code",
   "execution_count": null,
   "id": "37817293",
   "metadata": {},
   "outputs": [],
   "source": [
    "# Text/object columns only \n",
    "df.select_dtypes(include = 'object')"
   ]
  },
  {
   "cell_type": "markdown",
   "id": "41af462b",
   "metadata": {},
   "source": [
    "<span style=\"color:black\"><b>Creating New Columns</b></span> \n",
    "\n",
    "* Creating new columns is not a tedious nor difficult task when working with pandas dataframes\n",
    "* In fact, when creating a new column, we can use our dictionary syntax (dot syntax not allowed here) as if the column was already in our dataset to start off with"
   ]
  },
  {
   "cell_type": "markdown",
   "id": "56cb4696",
   "metadata": {},
   "source": [
    "Exercise: Create a new column named 'Testing' that has the value of 99.9 (just to see how this can be done)"
   ]
  },
  {
   "cell_type": "code",
   "execution_count": null,
   "id": "0323d498",
   "metadata": {},
   "outputs": [],
   "source": [
    "# Solution:\n",
    "df['Testing'] = 99.9\n",
    "df.head()"
   ]
  },
  {
   "cell_type": "markdown",
   "id": "da91d7a2",
   "metadata": {},
   "source": [
    "Exercise: Create a new pandas series called 'Followers gained/Views gained ratio' where we take Followers gained/Views gained and create a ratio"
   ]
  },
  {
   "cell_type": "code",
   "execution_count": null,
   "id": "007410d3",
   "metadata": {},
   "outputs": [],
   "source": [
    "# Solution:\n",
    "df['followers/views ratio'] = df['Followers gained'] / df['Views gained']\n",
    "df.head()"
   ]
  },
  {
   "cell_type": "markdown",
   "id": "3f76095c",
   "metadata": {},
   "source": [
    "Exercise: Create a new pandas series called 'followers gained bigger than views gained???' that returns True if yes, otherwise False"
   ]
  },
  {
   "cell_type": "code",
   "execution_count": null,
   "id": "160dc6c3",
   "metadata": {},
   "outputs": [],
   "source": [
    "# Solution\n",
    "df['followers bigger than views gained???'] = df['Followers gained'] > df['Views gained']"
   ]
  },
  {
   "cell_type": "code",
   "execution_count": null,
   "id": "baadc947",
   "metadata": {},
   "outputs": [],
   "source": [
    "# See if the changes worked\n",
    "df.head()"
   ]
  },
  {
   "cell_type": "markdown",
   "id": "720f7266",
   "metadata": {},
   "source": [
    "Extension exercise: Create a new pandas series called 'description' that gives a summary of the channel\n",
    "\n",
    "* The first row shoukld say 'xQcOW' is a(n) English channel'\n",
    "* The second row should say that 'summit1g is a(n) English channel'\n",
    "* The third row should say that 'Gaules is a(n) Portuguese channel'\n",
    "\n",
    "Prerequisites:\n",
    "* Knowledge about list comprehensions and `zip()`\n",
    "\n",
    "OR\n",
    "\n",
    "* Knowledge of the pandas `df.apply()` method"
   ]
  },
  {
   "cell_type": "code",
   "execution_count": null,
   "id": "9188cd80",
   "metadata": {},
   "outputs": [],
   "source": [
    "# One line solution\n",
    "df['description'] = [f\"{ch} is a(n) {lang} channel\" for ch, lang in zip(df.Channel, df.Language)]\n",
    "df.head()"
   ]
  },
  {
   "cell_type": "markdown",
   "id": "21033580",
   "metadata": {},
   "source": [
    "<span style=\"color:black\"><b>Renaming Columns</b></span> \n",
    "\n",
    "A very common way to rename columns is to use the `df.rename()` command from pandas\n",
    "\n",
    "Exercise: Rename the pandas series 'Channel' to 'Account Name' and rename 'Langauge' to 'Nationality'\n",
    "\n",
    "* For this we need to use the [rename](https://pandas.pydata.org/pandas-docs/stable/reference/api/pandas.DataFrame.rename.html) dataframe method from pandas \n",
    "* When using the `columns` argument, The key of the dictionary is the old series name and the value is the one you want to change it to. Easy!\n"
   ]
  },
  {
   "cell_type": "code",
   "execution_count": null,
   "id": "bc6450e6",
   "metadata": {},
   "outputs": [],
   "source": [
    "# Solution\n",
    "df.rename(columns = {'Channel':'Account Name', 'Language':'Nationality'}, inplace = True)"
   ]
  },
  {
   "cell_type": "code",
   "execution_count": null,
   "id": "db9a3bc6",
   "metadata": {},
   "outputs": [],
   "source": [
    "# Check the changes\n",
    "df.head()"
   ]
  },
  {
   "cell_type": "markdown",
   "id": "74703744",
   "metadata": {},
   "source": [
    "* The reason the change wasn't actually implemented (the first time) was because we did not set a special argument called the `inplace = True` argument.\n",
    "* The idea is that pandas does not want to make any permanent changes without us being fully aware of it\n",
    "* So by not seting `inplace = True`, it only gives us a preview of what the change would look like, but doesn't actually make the change\n",
    "* If we are sure that our change is the one we want to make, we must set the `inplace` argument to `True` and hence commit to the changes"
   ]
  }
 ],
 "metadata": {
  "kernelspec": {
   "display_name": "Python 3",
   "language": "python",
   "name": "python3"
  },
  "language_info": {
   "codemirror_mode": {
    "name": "ipython",
    "version": 3
   },
   "file_extension": ".py",
   "mimetype": "text/x-python",
   "name": "python",
   "nbconvert_exporter": "python",
   "pygments_lexer": "ipython3",
   "version": "3.8.8"
  }
 },
 "nbformat": 4,
 "nbformat_minor": 5
}
